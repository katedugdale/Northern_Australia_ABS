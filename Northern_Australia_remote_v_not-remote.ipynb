{
 "cells": [
  {
   "cell_type": "code",
   "execution_count": 1,
   "metadata": {},
   "outputs": [],
   "source": [
    "%matplotlib inline\n",
    "\n",
    "import sys\n",
    "\n",
    "import datacube\n",
    "import numpy as np\n",
    "import pandas as pd\n",
    "import xarray as xr\n",
    "import matplotlib.pyplot as plt\n",
    "import geopandas as gpd\n",
    "import ipyleaflet as ipyl\n",
    "import ipywidgets as ipyw\n",
    "import json\n",
    "\n",
    "\n",
    "import matplotlib as mpl\n",
    "import matplotlib.colors\n",
    "from matplotlib import cm\n",
    "from matplotlib.colors import LinearSegmentedColormap\n",
    "from colorspacious import cspace_converter\n",
    "from collections import OrderedDict\n",
    "from branca.colormap import linear\n",
    "\n",
    "cmaps = OrderedDict()"
   ]
  },
  {
   "cell_type": "code",
   "execution_count": 6,
   "metadata": {},
   "outputs": [],
   "source": [
    "shp_file_location = 'ABS_shapefiles/SA2_2016_AUST/SA2_2016_AUST.shp'\n",
    "\n",
    "#Read the SA2 shapefile\n",
    "gdf = gpd.read_file(shp_file_location)\n",
    "gdf = gdf.rename(columns={'SA2_MAIN16':'SA2'})\n",
    "gdf = gdf.set_index('SA2')\n",
    "gdf = gdf.sort_index()\n",
    "gdf = gdf.drop(columns=['SA2_5DIG16', 'SA2_NAME16', 'SA3_CODE16', 'SA3_NAME16', 'SA4_CODE16', 'SA4_NAME16',\n",
    "                        'GCC_CODE16', 'GCC_NAME16', 'STE_CODE16', 'STE_NAME16', 'AREASQKM16'])"
   ]
  },
  {
   "cell_type": "code",
   "execution_count": 26,
   "metadata": {},
   "outputs": [],
   "source": [
    "csv_file_location0 = 'ABS_csv_files/0_Cities_of_20000_or_more_Northern_Australia.csv'\n",
    "csv_file_location1 = 'ABS_csv_files/1_well_serviced_towns_northern_australia.csv'\n",
    "csv_file_location2 = 'ABS_csv_files/2_can_drive_to_a_town_in_an_hour.csv'\n",
    "csv_file_location3 = 'ABS_csv_files/3_remote_areas_Northern_Australia.csv'"
   ]
  },
  {
   "cell_type": "code",
   "execution_count": 27,
   "metadata": {},
   "outputs": [],
   "source": [
    "#0_Cities_of_20000_or_more_Northern_Australia.csv\n",
    "df0 = pd.read_csv(csv_file_location0)\n",
    "df0 = df0.set_index(\"SA2 code\")\n",
    "df0 = df0.sort_index()\n",
    "\n",
    "SA2_index0 = df0.index\n",
    "SA2_list0 = SA2_index0.tolist()\n",
    "SA2_string0 = str(SA2_list0)\n",
    "SA20 = SA2_string0.replace(\"[\",\"\").replace(\"]\",\"\").replace(\" \",\"\")\n",
    "SA20 = SA20.split(\",\")\n",
    "\n",
    "gdf0 = gdf[gdf.index.isin(SA20)]\n",
    "new_gdf0 = gdf0.merge(df0, on=gdf0.index)\n",
    "new_gdf0 = new_gdf0.rename(columns={'key_0':'SA2'})\n",
    "new_gdf0 = new_gdf0.set_index('SA2')"
   ]
  },
  {
   "cell_type": "code",
   "execution_count": 28,
   "metadata": {},
   "outputs": [],
   "source": [
    "#1_well_serviced_towns_northern_australia.csv\n",
    "df1 = pd.read_csv(csv_file_location1)\n",
    "df1 = df1.set_index(\"SA2 code\")\n",
    "df1 = df1.sort_index()\n",
    "\n",
    "SA2_index1 = df1.index\n",
    "SA2_list1 = SA2_index1.tolist()\n",
    "SA2_string1 = str(SA2_list1)\n",
    "SA21 = SA2_string1.replace(\"[\",\"\").replace(\"]\",\"\").replace(\" \",\"\")\n",
    "SA21 = SA21.split(\",\")\n",
    "\n",
    "gdf1 = gdf[gdf.index.isin(SA21)]\n",
    "new_gdf1 = gdf1.merge(df1, on=gdf1.index)\n",
    "new_gdf1 = new_gdf1.rename(columns={'key_0':'SA2'})\n",
    "new_gdf1 = new_gdf1.set_index('SA2')"
   ]
  },
  {
   "cell_type": "code",
   "execution_count": 29,
   "metadata": {},
   "outputs": [],
   "source": [
    "#2_can_drive_to_a_town_in_an_hour.csv\n",
    "df2 = pd.read_csv(csv_file_location2)\n",
    "df2 = df2.set_index(\"SA2 code\")\n",
    "df2 = df2.sort_index()\n",
    "\n",
    "SA2_index2 = df2.index\n",
    "SA2_list2 = SA2_index2.tolist()\n",
    "SA2_string2 = str(SA2_list2)\n",
    "SA22 = SA2_string2.replace(\"[\",\"\").replace(\"]\",\"\").replace(\" \",\"\")\n",
    "SA22 = SA22.split(\",\")\n",
    "\n",
    "gdf2 = gdf[gdf.index.isin(SA22)]\n",
    "new_gdf2 = gdf2.merge(df2, on=gdf2.index)\n",
    "new_gdf2 = new_gdf2.rename(columns={'key_0':'SA2'})\n",
    "new_gdf2 = new_gdf2.set_index('SA2')"
   ]
  },
  {
   "cell_type": "code",
   "execution_count": 30,
   "metadata": {},
   "outputs": [],
   "source": [
    "#3_remote_areas_Northern_Australia.csv\n",
    "df3 = pd.read_csv(csv_file_location3)\n",
    "df3 = df3.set_index(\"SA2 code\")\n",
    "df3 = df3.sort_index()\n",
    "\n",
    "SA2_index3 = df3.index\n",
    "SA2_list3 = SA2_index3.tolist()\n",
    "SA2_string3 = str(SA2_list3)\n",
    "SA23 = SA2_string3.replace(\"[\",\"\").replace(\"]\",\"\").replace(\" \",\"\")\n",
    "SA23 = SA23.split(\",\")\n",
    "\n",
    "gdf3 = gdf[gdf.index.isin(SA23)]\n",
    "new_gdf3 = gdf3.merge(df3, on=gdf3.index)\n",
    "new_gdf3 = new_gdf3.rename(columns={'key_0':'SA2'})\n",
    "new_gdf3 = new_gdf3.set_index('SA2')"
   ]
  },
  {
   "cell_type": "code",
   "execution_count": 31,
   "metadata": {},
   "outputs": [
    {
     "data": {
      "application/vnd.jupyter.widget-view+json": {
       "model_id": "fcb0243eeefd4c848540d1127dd5004c",
       "version_major": 2,
       "version_minor": 0
      },
      "text/plain": [
       "VBox(children=(Map(basemap={'url': 'https://{s}.tile.openstreetmap.org/{z}/{x}/{y}.png', 'max_zoom': 19, 'attr…"
      ]
     },
     "metadata": {},
     "output_type": "display_data"
    }
   ],
   "source": [
    "#Converting the data to json\n",
    "data0 = json.loads(new_gdf0.to_json())\n",
    "data1 = json.loads(new_gdf1.to_json())\n",
    "data2 = json.loads(new_gdf2.to_json())\n",
    "data3 = json.loads(new_gdf3.to_json())\n",
    "\n",
    "map = ipyl.Map(center=[-19.3, 134], zoom=5)\n",
    "\n",
    "label = ipyw.Label(layout=ipyw.Layout(width='100%'))\n",
    "\n",
    "#0_Cities_of_20000_or_more_Northern_Australia.csv\n",
    "for feature in data0['features']:\n",
    "    feature['properties']['style'] = {\n",
    "        'color': 'green',\n",
    "        'weight': 1,\n",
    "        'fillColor': 'green',\n",
    "        'fillOpacity': 0.5\n",
    "    }\n",
    "layer0 = ipyl.GeoJSON(data=data0, hover_style={'fillColor': 'blue'})\n",
    "\n",
    "\n",
    "#1_well_serviced_towns_northern_australia.csv\n",
    "for feature in data1['features']:\n",
    "    feature['properties']['style'] = {\n",
    "        'color': 'yellow',\n",
    "        'weight': 1,\n",
    "        'fillColor': 'yellow',\n",
    "        'fillOpacity': 0.5\n",
    "    }\n",
    "layer1 = ipyl.GeoJSON(data=data1, hover_style={'fillColor': 'blue'})\n",
    "\n",
    "#2_can_drive_to_a_town_in_an_hour.csv\n",
    "for feature in data2['features']:\n",
    "    feature['properties']['style'] = {\n",
    "        'color': 'red',\n",
    "        'weight': 1,\n",
    "        'fillColor': 'red',\n",
    "        'fillOpacity': 0.5\n",
    "    }\n",
    "layer2 = ipyl.GeoJSON(data=data2, hover_style={'fillColor': 'blue'})\n",
    "\n",
    "\n",
    "#3_remote_areas_Northern_Australia.csv\n",
    "for feature in data3['features']:\n",
    "    feature['properties']['style'] = {\n",
    "        'color': 'grey',\n",
    "        'weight': 1,\n",
    "        'fillColor': 'grey',\n",
    "        'fillOpacity': 0.5\n",
    "    }\n",
    "layer3 = ipyl.GeoJSON(data=data3, hover_style={'fillColor': 'blue'})\n",
    "\n",
    "\n",
    "def click_handler(event=None, feature=None, id=None, properties=None):\n",
    "    label.value = str(properties['Name'])\n",
    "    \n",
    "    \n",
    "layer0.on_hover(click_handler)\n",
    "map.add_layer(layer0)\n",
    "\n",
    "layer1.on_hover(click_handler)\n",
    "map.add_layer(layer1)\n",
    "\n",
    "layer2.on_hover(click_handler)\n",
    "map.add_layer(layer2)\n",
    "\n",
    "layer3.on_hover(click_handler)\n",
    "map.add_layer(layer3)\n",
    "\n",
    "ipyw.VBox([map, label])"
   ]
  },
  {
   "cell_type": "code",
   "execution_count": null,
   "metadata": {},
   "outputs": [],
   "source": []
  }
 ],
 "metadata": {
  "kernelspec": {
   "display_name": "Python 3",
   "language": "python",
   "name": "python3"
  },
  "language_info": {
   "codemirror_mode": {
    "name": "ipython",
    "version": 3
   },
   "file_extension": ".py",
   "mimetype": "text/x-python",
   "name": "python",
   "nbconvert_exporter": "python",
   "pygments_lexer": "ipython3",
   "version": "3.6.9"
  }
 },
 "nbformat": 4,
 "nbformat_minor": 4
}

{
 "cells": [
  {
   "cell_type": "markdown",
   "metadata": {},
   "source": [
    "# Enter a shp file and see it displayed on ipyleaflet map. Add clickable functionality."
   ]
  },
  {
   "cell_type": "code",
   "execution_count": 1,
   "metadata": {},
   "outputs": [],
   "source": [
    "%matplotlib inline\n",
    "\n",
    "import sys\n",
    "\n",
    "import datacube\n",
    "import numpy as np\n",
    "import pandas as pd\n",
    "import xarray as xr\n",
    "import matplotlib.pyplot as plt\n",
    "import geopandas as gpd\n",
    "import ipyleaflet as ipyl\n",
    "import ipywidgets as ipyw\n",
    "import json\n",
    "\n",
    "\n",
    "import matplotlib as mpl\n",
    "import matplotlib.colors\n",
    "from matplotlib import cm\n",
    "from matplotlib.colors import LinearSegmentedColormap\n",
    "from colorspacious import cspace_converter\n",
    "from collections import OrderedDict\n",
    "from branca.colormap import linear\n",
    "\n",
    "cmaps = OrderedDict()"
   ]
  },
  {
   "cell_type": "code",
   "execution_count": 2,
   "metadata": {},
   "outputs": [
    {
     "data": {
      "text/html": [
       "<div>\n",
       "<style scoped>\n",
       "    .dataframe tbody tr th:only-of-type {\n",
       "        vertical-align: middle;\n",
       "    }\n",
       "\n",
       "    .dataframe tbody tr th {\n",
       "        vertical-align: top;\n",
       "    }\n",
       "\n",
       "    .dataframe thead th {\n",
       "        text-align: right;\n",
       "    }\n",
       "</style>\n",
       "<table border=\"1\" class=\"dataframe\">\n",
       "  <thead>\n",
       "    <tr style=\"text-align: right;\">\n",
       "      <th></th>\n",
       "      <th>id</th>\n",
       "      <th>country</th>\n",
       "      <th>name</th>\n",
       "      <th>enname</th>\n",
       "      <th>locname</th>\n",
       "      <th>offname</th>\n",
       "      <th>boundary</th>\n",
       "      <th>adminlevel</th>\n",
       "      <th>wikidata</th>\n",
       "      <th>wikimedia</th>\n",
       "      <th>timestamp</th>\n",
       "      <th>note</th>\n",
       "      <th>path</th>\n",
       "      <th>rpath</th>\n",
       "      <th>iso3166_2</th>\n",
       "      <th>geometry</th>\n",
       "    </tr>\n",
       "  </thead>\n",
       "  <tbody>\n",
       "    <tr>\n",
       "      <th>0</th>\n",
       "      <td>80500</td>\n",
       "      <td>AUS</td>\n",
       "      <td>Australia</td>\n",
       "      <td>Australia</td>\n",
       "      <td>Australia</td>\n",
       "      <td>Commonwealth of Australia</td>\n",
       "      <td>administrative</td>\n",
       "      <td>2</td>\n",
       "      <td>Q408</td>\n",
       "      <td>en:Australia</td>\n",
       "      <td>2020-01-01 22:53:02</td>\n",
       "      <td>None</td>\n",
       "      <td>0,80500</td>\n",
       "      <td>80500,0</td>\n",
       "      <td>None</td>\n",
       "      <td>MULTIPOLYGON (((158.68438 -55.11444, 158.68558...</td>\n",
       "    </tr>\n",
       "  </tbody>\n",
       "</table>\n",
       "</div>"
      ],
      "text/plain": [
       "      id country       name     enname    locname                    offname  \\\n",
       "0  80500     AUS  Australia  Australia  Australia  Commonwealth of Australia   \n",
       "\n",
       "         boundary  adminlevel wikidata     wikimedia            timestamp  \\\n",
       "0  administrative           2     Q408  en:Australia  2020-01-01 22:53:02   \n",
       "\n",
       "   note     path    rpath iso3166_2  \\\n",
       "0  None  0,80500  80500,0      None   \n",
       "\n",
       "                                            geometry  \n",
       "0  MULTIPOLYGON (((158.68438 -55.11444, 158.68558...  "
      ]
     },
     "execution_count": 2,
     "metadata": {},
     "output_type": "execute_result"
    }
   ],
   "source": [
    "shp_file_location = 'Australia/Australia_boundary.shp'\n",
    "gdf = gpd.read_file(shp_file_location)\n",
    "gdf.head()"
   ]
  },
  {
   "cell_type": "code",
   "execution_count": 3,
   "metadata": {},
   "outputs": [
    {
     "data": {
      "application/vnd.jupyter.widget-view+json": {
       "model_id": "c42059a63e094c3ca7eddc4340167e16",
       "version_major": 2,
       "version_minor": 0
      },
      "text/plain": [
       "VBox(children=(Map(basemap={'url': 'https://{s}.tile.openstreetmap.org/{z}/{x}/{y}.png', 'max_zoom': 19, 'attr…"
      ]
     },
     "metadata": {},
     "output_type": "display_data"
    }
   ],
   "source": [
    "#Converting the data to json\n",
    "data = json.loads(gdf.to_json())\n",
    "\n",
    "map = ipyl.Map(center=[-28, 148], zoom=3)\n",
    "\n",
    "label = ipyw.Label(layout=ipyw.Layout(width='100%'))\n",
    "\n",
    "for feature in data['features']:\n",
    "    feature['properties']['style'] = {\n",
    "        'color': 'grey',\n",
    "        'weight': 1,\n",
    "        'fillColor': 'grey',\n",
    "        'fillOpacity': 0.5\n",
    "    }\n",
    "layer = ipyl.GeoJSON(data=data, hover_style={'fillColor': 'red'})\n",
    "\n",
    "def click_handler(event=None, feature=None, id=None, properties=None):\n",
    "    label.value = str(properties['locname'])\n",
    "    \n",
    "    \n",
    "layer.on_hover(click_handler)\n",
    "map.add_layer(layer)\n",
    "\n",
    "\n",
    "ipyw.VBox([map, label])"
   ]
  },
  {
   "cell_type": "code",
   "execution_count": null,
   "metadata": {},
   "outputs": [],
   "source": []
  }
 ],
 "metadata": {
  "kernelspec": {
   "display_name": "Python 3",
   "language": "python",
   "name": "python3"
  },
  "language_info": {
   "codemirror_mode": {
    "name": "ipython",
    "version": 3
   },
   "file_extension": ".py",
   "mimetype": "text/x-python",
   "name": "python",
   "nbconvert_exporter": "python",
   "pygments_lexer": "ipython3",
   "version": "3.6.9"
  }
 },
 "nbformat": 4,
 "nbformat_minor": 4
}
